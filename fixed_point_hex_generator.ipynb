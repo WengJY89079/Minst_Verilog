{
  "nbformat": 4,
  "nbformat_minor": 0,
  "metadata": {
    "colab": {
      "name": "fixed_point_hex_generator.ipynb",
      "provenance": [],
      "collapsed_sections": []
    },
    "kernelspec": {
      "name": "python3",
      "display_name": "Python 3"
    }
  },
  "cells": [
    {
      "cell_type": "code",
      "metadata": {
        "id": "2yQFQFex9Xqo"
      },
      "source": [
        "from keras.datasets import mnist\r\n",
        "import numpy as np\r\n",
        "import math\r\n",
        "import matplotlib.pyplot as plt\r\n",
        "(x_train, y_train), (x_test, y_test) = mnist.load_data() # data-set load\r\n",
        "\r\n",
        "row_num, col_num = 28, 28\r\n",
        "#x_train = x_train.reshape(x_train.shape[0], row_num, col_num, 1)\r\n",
        "#x_test = x_test.reshape(x_test.shape[0], row_num, col_num, 1)\r\n",
        "\r\n",
        "x_train = x_train.astype('float32')\r\n",
        "x_test = x_test.astype('float32')\r\n",
        "x_train /= 255\r\n",
        "x_test /= 255\r\n",
        "\r\n",
        "# x_train plot\r\n",
        "\r\n",
        "plot_index = 6000\r\n",
        "plt.imshow(x_train[plot_index], cmap='gray')\r\n",
        "plt.title('%i' % y_train[plot_index])  \r\n",
        "plt.show()"
      ],
      "execution_count": null,
      "outputs": []
    },
    {
      "cell_type": "code",
      "metadata": {
        "id": "s5WskAoD9kA2"
      },
      "source": [
        "def fixed_point_hex_generate(data, int_bit, point_bit, merge):\r\n",
        "  hex_map = ['0', '1', '2', '3', '4', '5', '6', '7', '8', '9', 'A', 'B', 'C', 'D', 'E', 'F']\r\n",
        "\r\n",
        "  pre_point = data - data % 1\r\n",
        "  post_point = data % 1\r\n",
        "\r\n",
        "  \r\n",
        "  result = [['' for col in range(28)] for row in range(28)]\r\n",
        "\r\n",
        "  while point_bit >= 4:\r\n",
        "    point_bit -= 4\r\n",
        "    post_point = post_point * 16\r\n",
        "    for i in range(row_num):\r\n",
        "      for j in range(col_num):\r\n",
        "        result[i][j] = result[i][j] + hex_map[int(post_point[i][j])]\r\n",
        "    post_point = post_point % 1\r\n",
        "  if point_bit != 0:\r\n",
        "    post_point = post_point * (2 ** point_bit)\r\n",
        "    for i in range(row_num):\r\n",
        "      for j in range(col_num):\r\n",
        "        result[i][j] = result[i][j] + hex_map[int(post_point[i][j]) * (2 ** (4 - point_bit))]\r\n",
        "\r\n",
        "  '''try'''\r\n",
        "\r\n",
        "  while int_bit >= 4:\r\n",
        "    int_bit -= 4\r\n",
        "    for i in range(row_num):\r\n",
        "      for j in range(col_num):\r\n",
        "        result[i][j] = hex_map[int(pre_point[i][j] % 16)] + result[i][j]\r\n",
        "    pre_point = (pre_point / 16) % 1\r\n",
        "  if int_bit != 0:\r\n",
        "    for i in range(row_num):\r\n",
        "      for j in range(col_num):\r\n",
        "        result[i][j] = hex_map[int(pre_point[i][j] % 16)] + result[i][j]\r\n",
        "  return result"
      ],
      "execution_count": null,
      "outputs": []
    },
    {
      "cell_type": "code",
      "metadata": {
        "id": "2VAMp_JuJp63"
      },
      "source": [
        "'''\r\n",
        "\r\n",
        "Modify these variable to change how much bit you want reserve\r\n",
        "\r\n",
        "'''\r\n",
        "\r\n",
        "post_point_bit = 13 # bit after point\r\n",
        "pre_point_bit = 12 # bit before point\r\n",
        "\r\n",
        "post_point_hex_size = math.ceil(post_point_bit/4) # hex size after point\r\n",
        "pre_point_hex_size = math.ceil(pre_point_bit/4) # hex size before point"
      ],
      "execution_count": null,
      "outputs": []
    },
    {
      "cell_type": "code",
      "metadata": {
        "id": "0yUH7vJX-hPD"
      },
      "source": [
        "result = fixed_point_hex_generate(x_train[plot_index], pre_point_bit,  post_point_bit, 1);"
      ],
      "execution_count": null,
      "outputs": []
    },
    {
      "cell_type": "code",
      "metadata": {
        "id": "kmbDSNftJ6eh"
      },
      "source": [
        "'''test post_point'''\r\n",
        "\r\n",
        "test_post_point = x_train[plot_index] - x_train[plot_index] % (2 ** -(post_point_bit))\r\n",
        "for i in range(row_num):\r\n",
        "  for j in range(col_num):\r\n",
        "    test_result = 0\r\n",
        "    for int_index in range(pre_point_hex_size -1,  -1, -1):\r\n",
        "      test_result += int(result[i][j][int_index], 16) * (16 ** (pre_point_hex_size - int_index - 1))\r\n",
        "    for float_index in range(post_point_hex_size):\r\n",
        "      test_result += int(result[i][j][float_index + pre_point_hex_size], 16) * (1.0 / (16 ** (float_index + 1)))\r\n",
        "    if test_post_point[i][j] != test_result:\r\n",
        "      print(test_post_point[i][j], test_result)"
      ],
      "execution_count": null,
      "outputs": []
    }
  ]
}